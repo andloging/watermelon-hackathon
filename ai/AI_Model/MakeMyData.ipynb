{
 "cells": [
  {
   "cell_type": "code",
   "execution_count": 1,
   "metadata": {},
   "outputs": [],
   "source": [
    "import numpy as np\n",
    "import h5py\n",
    "import matplotlib.pyplot as plt\n",
    "from skimage import transform,data\n",
    "import imageio\n",
    "from collections import Counter"
   ]
  },
  {
   "cell_type": "code",
   "execution_count": 5,
   "metadata": {},
   "outputs": [],
   "source": [
    "def load_dataset():\n",
    "    train_dataset = h5py.File('/home/li/Practive/DL_HomeWork/course1_week2/datasets/train_catvnoncat.h5', \"r\")\n",
    "    train_set_x_orig = np.array(train_dataset[\"train_set_x\"][:]) # your train set features\n",
    "    train_set_y_orig = np.array(train_dataset[\"train_set_y\"][:]) # your train set labels\n",
    "\n",
    "    test_dataset = h5py.File('/home/li/Practive/DL_HomeWork/course1_week2/datasets/test_catvnoncat.h5', \"r\")\n",
    "    test_set_x_orig = np.array(test_dataset[\"test_set_x\"][:]) # your test set features\n",
    "    test_set_y_orig = np.array(test_dataset[\"test_set_y\"][:]) # your test set labels\n",
    "\n",
    "    classes = np.array(test_dataset[\"list_classes\"][:]) # the list of classes\n",
    "    \n",
    "    train_set_y_orig = train_set_y_orig.reshape((1, train_set_y_orig.shape[0]))\n",
    "    test_set_y_orig = test_set_y_orig.reshape((1, test_set_y_orig.shape[0]))\n",
    "    \n",
    "    return train_set_x_orig, train_set_y_orig, test_set_x_orig, test_set_y_orig, classes"
   ]
  },
  {
   "cell_type": "code",
   "execution_count": 7,
   "metadata": {},
   "outputs": [],
   "source": [
    "train_set_x_orig , train_set_y , test_set_x_orig , test_set_y , classes = load_dataset()"
   ]
  },
  {
   "cell_type": "code",
   "execution_count": 20,
   "metadata": {},
   "outputs": [
    {
     "name": "stdout",
     "output_type": "stream",
     "text": [
      "Counter({0: 137, 1: 72})\n",
      "Counter({1: 33, 0: 17})\n"
     ]
    }
   ],
   "source": [
    "print(Counter(train_set_y[0]))\n",
    "print(Counter(test_set_y[0]))"
   ]
  },
  {
   "cell_type": "code",
   "execution_count": 2,
   "metadata": {},
   "outputs": [],
   "source": [
    "import os\n",
    "import numpy as np\n",
    "import h5py\n",
    "\n",
    "def get_files(file_dir):\n",
    "    Dog = []\n",
    "    label_Dog = []\n",
    "    NotDog = []\n",
    "    label_NotDog = []\n",
    "    for file in os.listdir(file_dir+'/W'):\n",
    "        Dog.append(file_dir+'/W'+'/'+file)\n",
    "        label_Dog.append(1)\n",
    "    for file in os.listdir(file_dir+'/NW'):\n",
    "        NotDog.append(file_dir+'/NW'+'/'+file)\n",
    "        label_NotDog.append(0)\n",
    "    #合并数据集\n",
    "    image_list=np.hstack((Dog,NotDog))\n",
    "    label_list=np.hstack((label_Dog,label_NotDog))\n",
    "    #打乱图片顺序\n",
    "    temp=np.array([image_list,label_list])\n",
    "    temp=temp.transpose()\n",
    "    np.random.shuffle(temp)\n",
    "    #取出\n",
    "    image_list=list(temp[:,0])\n",
    "    label_list=list(temp[:,1])\n",
    "    label_list=[int(i) for i in label_list]\n",
    "    return image_list,label_list"
   ]
  },
  {
   "cell_type": "code",
   "execution_count": 3,
   "metadata": {},
   "outputs": [],
   "source": [
    "image_list,label_list=get_files(\"./images\")"
   ]
  },
  {
   "cell_type": "code",
   "execution_count": 4,
   "metadata": {},
   "outputs": [
    {
     "name": "stdout",
     "output_type": "stream",
     "text": [
      "['./images/W/17.jpg', './images/NW/图片_102.jpg', './images/W/西瓜_806.jpg', './images/W/西瓜_857.jpg', './images/W/37.jpg', './images/W/16.jpg', './images/NW/图片_144.jpg', './images/W/12.jpg', './images/W/西瓜_853.jpg', './images/W/西瓜_436.jpg', './images/W/西瓜_2.jpg', './images/NW/图片_228.jpg', './images/NW/图片_183.jpg', './images/W/15.jpg', './images/W/66.jpeg', './images/NW/图片_46.jpg', './images/W/西瓜_26.jpg', './images/NW/图片_60.jpg', './images/W/西瓜_428.jpg', './images/W/38.jpg', './images/W/39.jpg', './images/NW/图片_56.jpg', './images/W/27.jpg', './images/NW/图片_254.jpg', './images/W/西瓜_62.jpg', './images/NW/图片_30.jpg', './images/W/西瓜_359.jpg', './images/W/1.jpg', './images/NW/图片_211.jpg', './images/NW/图片_47.jpg', './images/W/48.jpeg', './images/W/西瓜_442.jpg', './images/NW/图片_184.jpg', './images/W/西瓜_529.jpg', './images/W/26.jpg', './images/W/西瓜_307.jpg', './images/NW/图片_221.jpg', './images/W/64.jpeg', './images/W/西瓜_93.jpg', './images/W/35.jpg', './images/NW/图片_142.jpg', './images/W/29.jpg', './images/NW/图片_187.jpg', './images/NW/图片_85.jpg', './images/W/9.jpg', './images/NW/图片_75.jpg', './images/W/西瓜_606.jpg', './images/NW/图片_54 (1).jpg', './images/W/21.jpg', './images/NW/图片_51.jpg', './images/NW/图片_238.jpg', './images/W/西瓜_33.jpg', './images/NW/图片_101.jpg', './images/W/西瓜_540.jpg', './images/W/14.jpg', './images/NW/图片_172.jpg', './images/W/西瓜_246.jpg', './images/NW/图片_72.jpg', './images/NW/图片_200.jpg', './images/NW/图片_32.jpg', './images/W/西瓜_11.jpg', './images/NW/图片_82.jpg', './images/NW/图片_232.jpg', './images/W/西瓜_367.jpg', './images/NW/图片_14.jpg', './images/W/3.jpg', './images/NW/图片_159.jpg', './images/W/西瓜_752.jpg', './images/NW/图片_140.jpg', './images/W/西瓜_113.jpg', './images/W/西瓜_508.jpg', './images/W/6.jpg', './images/NW/图片_227.jpg', './images/NW/图片_126.jpg', './images/W/西瓜_251.jpg', './images/NW/图片_220.jpg', './images/NW/图片_117 (1).jpg', './images/NW/图片_25_1.jpg', './images/NW/图片_145.jpg', './images/NW/图片_106 (1).jpg', './images/W/28.jpg', './images/NW/图片_65.jpg', './images/NW/图片_130.jpg', './images/W/西瓜_260.jpg', './images/NW/兔子_1.jpg', './images/W/西瓜_22.jpg', './images/W/西瓜_158.jpg', './images/NW/图片_150.jpg', './images/W/西瓜_183.jpg', './images/NW/图片_110.jpg', './images/W/西瓜_822.jpg', './images/W/西瓜_131.jpg', './images/NW/图片_198.jpg', './images/W/西瓜_515.jpg', './images/W/30.jpg', './images/W/西瓜_9.jpg', './images/NW/图片_71.jpg', './images/NW/图片_128.jpg', './images/NW/图片_175.jpg', './images/NW/图片_113.jpg', './images/W/24.jpg', './images/NW/图片_115.jpg', './images/NW/图片_141.jpg', './images/NW/图片_132 (1).jpg', './images/NW/图片_217.jpg', './images/W/5.jpg', './images/NW/图片_66.jpg', './images/W/33.jpg', './images/W/西瓜_30.jpg', './images/W/8.jpg', './images/W/67.jpeg', './images/NW/图片_271.jpg', './images/W/西瓜_21.jpg', './images/W/44.jpg', './images/W/68.jpeg', './images/NW/图片_209.jpg', './images/W/西瓜_191.jpg', './images/NW/图片_171.jpg', './images/W/62.jpeg', './images/NW/图片_12.jpg', './images/W/西瓜_53.jpg', './images/NW/图片_176.jpg', './images/W/31.jpg', './images/W/西瓜_303.jpg', './images/NW/图片_6.jpg', './images/W/58.jpeg', './images/W/西瓜_318.jpg', './images/W/36.jpg', './images/W/西瓜_4.jpg', './images/NW/图片_67.jpg', './images/NW/图片_57.jpg', './images/NW/图片_92.jpg', './images/NW/图片_134.jpg', './images/NW/图片_229.jpg', './images/NW/图片_114.jpg', './images/W/69.jpeg', './images/W/西瓜_393.jpg', './images/W/49.jpeg', './images/W/西瓜_557.jpg', './images/W/西瓜_29.jpg', './images/NW/图片_131.jpg', './images/NW/图片_122.jpg', './images/NW/图片_251.jpg', './images/NW/图片_143.jpg', './images/W/西瓜_845.jpg', './images/W/11.jpg', './images/NW/图片_9.jpg', './images/NW/图片_260.jpg', './images/W/西瓜_375.jpg', './images/W/51.jpeg', './images/W/西瓜_391.jpg', './images/NW/图片_84.jpg', './images/NW/图片_226.jpg', './images/W/57.jpeg', './images/W/18.jpg', './images/NW/图片_39.jpg', './images/NW/图片_258.jpg', './images/NW/图片_141 (1).jpg', './images/W/34.jpg', './images/W/西瓜_3221.jpg', './images/NW/图片_56 (1).jpg', './images/NW/图片_15.jpg', './images/NW/图片_59.jpg', './images/NW/图片_72 (1).jpg', './images/NW/图片_90.jpg', './images/NW/图片_31.jpg', './images/NW/图片_49.jpg', './images/W/19.jpg', './images/W/西瓜_268.jpg', './images/W/20.jpg', './images/W/西瓜_513.jpg', './images/W/45.jpeg', './images/NW/图片_149.jpg', './images/W/西瓜_211.jpg', './images/NW/图片_257.jpg', './images/W/西瓜_51.jpg', './images/W/西瓜_63.jpg', './images/W/50.jpeg', './images/W/西瓜_383.jpg', './images/W/西瓜_71.jpg', './images/W/西瓜_759.jpg', './images/W/西瓜_600.jpg', './images/W/46.jpg', './images/W/61.jpeg', './images/W/西瓜_627.jpg', './images/NW/图片_20.jpg', './images/W/10.jpg', './images/NW/图片_132.jpg', './images/W/西瓜_838.jpg', './images/W/西瓜_1.jpg', './images/W/52.jpeg', './images/NW/图片_89.jpg', './images/W/40.jpg', './images/NW/图片_63.jpg', './images/W/西瓜_818.jpg', './images/W/西瓜_692.jpg', './images/NW/图片_98.jpg', './images/NW/图片_17.jpg', './images/W/西瓜_178.jpg', './images/NW/图片_70.jpg', './images/W/西瓜_670.jpg', './images/W/西瓜_258.jpg', './images/NW/图片_110 (1).jpg', './images/W/西瓜_187.jpg', './images/W/西瓜_238.jpg', './images/NW/图片_287.jpg', './images/NW/图片_234.jpg', './images/W/13.jpg', './images/NW/图片_35.jpg', './images/NW/图片_283.jpg', './images/NW/图片_270.jpg', './images/W/西瓜_171.jpg', './images/W/西瓜_511.jpg', './images/W/63.jpeg', './images/NW/图片_269.jpg', './images/NW/图片_54.jpg', './images/NW/图片_173.jpg', './images/NW/图片_210.jpg', './images/NW/图片_178 (1).jpg', './images/NW/图片_151.jpg', './images/NW/图片_155.jpg', './images/W/西瓜_148.jpg', './images/NW/图片_51 (1).jpg', './images/W/西瓜_762.jpg', './images/W/25.jpg', './images/W/56.jpeg', './images/NW/图片_43.jpg', './images/W/西瓜_438.jpg', './images/W/西瓜_17.jpg', './images/NW/图片_16.jpg', './images/NW/图片_117.jpg', './images/NW/图片_104.jpg', './images/W/32.jpg', './images/W/西瓜_189.jpg', './images/NW/图片_50.jpg', './images/W/西瓜_107.jpg', './images/W/西瓜_58.jpg', './images/W/西瓜_14.jpg', './images/W/7.jpg', './images/W/西瓜_145.jpg', './images/NW/图片_29.jpg', './images/W/西瓜_73.jpg', './images/W/西瓜_180.jpg', './images/W/43.jpg', './images/W/西瓜_824.jpg', './images/W/22.jpg', './images/NW/图片_206.jpg', './images/W/2.jpg', './images/W/41.jpg', './images/NW/图片_252.jpg', './images/NW/图片_118.jpg', './images/W/西瓜_917.jpg', './images/NW/图片_109.jpg', './images/W/西瓜_641.jpg', './images/W/23.jpg', './images/W/47.jpeg', './images/W/55.jpeg', './images/W/西瓜_214.jpg', './images/W/西瓜_814.jpg', './images/W/西瓜_234.jpg', './images/W/西瓜_3.jpg', './images/NW/图片_196.jpg', './images/W/西瓜_555.jpg', './images/NW/图片_241.jpg', './images/W/59.jpeg', './images/W/65.jpeg', './images/W/西瓜_910.jpg']\n"
     ]
    }
   ],
   "source": [
    "print(image_list)"
   ]
  },
  {
   "cell_type": "code",
   "execution_count": 5,
   "metadata": {},
   "outputs": [],
   "source": [
    "Train_image=np.random.rand(len(image_list)-68,64,64,3).astype('float32')\n",
    "Train_label=np.random.rand(len(image_list)-68,1).astype('float32')\n",
    "Test_image=np.random.rand(68,64,64,3).astype('float32')\n",
    "Test_label=np.random.rand(68,1).astype('float32')"
   ]
  },
  {
   "cell_type": "code",
   "execution_count": 6,
   "metadata": {},
   "outputs": [
    {
     "name": "stdout",
     "output_type": "stream",
     "text": [
      "+++++++++++++++++++++++++++\n",
      "200\n",
      "+++++++++++++++++++++++++++\n",
      "268\n"
     ]
    }
   ],
   "source": [
    "sum=1\n",
    "for i in range(len(image_list)-68):\n",
    "    #print(i)\n",
    "    temp_image= np.array(imageio.imread(image_list[i]))\n",
    "    #print(temp_image.shape,temp_image.ndim)\n",
    "    if  temp_image.ndim==3:\n",
    "        if temp_image.shape[2]!=4:\n",
    "            Train_image[i]=transform.resize(temp_image,(64,64))\n",
    "            Train_label[i] = np.array(label_list[i])\n",
    "            sum+=1\n",
    "print(\"+++++++++++++++++++++++++++\")\n",
    "print(sum)\n",
    "for i in range(len(image_list)-68, len(image_list)):\n",
    "    #print(i)\n",
    "    temp_image=np.array(imageio.imread(image_list[i+68-len(image_list)] ))\n",
    "    #print(temp_image.shape)\n",
    "    if temp_image.ndim==3:\n",
    "        if temp_image.shape[2]!=4:\n",
    "            Test_image[i+68-len(image_list)]=transform.resize(temp_image,(64,64))\n",
    "            Test_label[i+68-len(image_list)] = np.array(label_list[i])\n",
    "            sum+=1\n",
    "print(\"+++++++++++++++++++++++++++\")\n",
    "print(sum)"
   ]
  },
  {
   "cell_type": "code",
   "execution_count": 7,
   "metadata": {},
   "outputs": [
    {
     "data": {
      "text/plain": [
       "<HDF5 dataset \"train_set_y\": shape (199, 1), type \"<f4\">"
      ]
     },
     "execution_count": 7,
     "metadata": {},
     "output_type": "execute_result"
    }
   ],
   "source": [
    "f=h5py.File('Train_Set_W_1.h5','w')\n",
    "f.create_dataset('train_set_x',data=Train_image)\n",
    "f.create_dataset('train_set_y',data=Train_label)"
   ]
  },
  {
   "cell_type": "code",
   "execution_count": 8,
   "metadata": {},
   "outputs": [
    {
     "data": {
      "text/plain": [
       "<HDF5 dataset \"test_set_y\": shape (68, 1), type \"<f4\">"
      ]
     },
     "execution_count": 8,
     "metadata": {},
     "output_type": "execute_result"
    }
   ],
   "source": [
    "f=h5py.File('Test_Set_W_1.h5','w')\n",
    "f.create_dataset('test_set_x',data=Test_image)\n",
    "f.create_dataset('test_set_y',data=Test_label)"
   ]
  },
  {
   "cell_type": "code",
   "execution_count": 12,
   "metadata": {},
   "outputs": [
    {
     "name": "stdout",
     "output_type": "stream",
     "text": [
      "(199, 64, 64, 3)\n",
      "[1.]\n"
     ]
    },
    {
     "data": {
      "text/plain": [
       "<matplotlib.image.AxesImage at 0x7f8c6c5c0190>"
      ]
     },
     "execution_count": 12,
     "metadata": {},
     "output_type": "execute_result"
    },
    {
     "data": {
      "image/png": "[encoded data removed]",
      "text/plain": [
       "<Figure size 432x288 with 1 Axes>"
      ]
     },
     "metadata": {
      "needs_background": "light"
     },
     "output_type": "display_data"
    }
   ],
   "source": [
    "Train_dataset=h5py.File('Train_Set_W_1.h5','r')\n",
    "T_X=np.array(Train_dataset['train_set_x'][:])\n",
    "T_y=np.array(Train_dataset['train_set_y'][:])\n",
    "print(T_X.shape)\n",
    "index=110\n",
    "print(T_y[index])\n",
    "plt.imshow(T_X[index])\n",
    "#plt.savefig('fig_dog.png')\n",
    "#imageio.imwrite('test.jpg',T_X[18])\n",
    "#print(T_X.ndim)"
   ]
  },
  {
   "cell_type": "code",
   "execution_count": 69,
   "metadata": {},
   "outputs": [
    {
     "name": "stderr",
     "output_type": "stream",
     "text": [
      "Lossy conversion from float32 to uint8. Range [0, 1]. Convert image to uint8 prior to saving to suppress this warning.\n",
      "Lossy conversion from float32 to uint8. Range [0, 1]. Convert image to uint8 prior to saving to suppress this warning.\n",
      "Lossy conversion from float32 to uint8. Range [0, 1]. Convert image to uint8 prior to saving to suppress this warning.\n",
      "Lossy conversion from float32 to uint8. Range [0, 1]. Convert image to uint8 prior to saving to suppress this warning.\n",
      "Lossy conversion from float32 to uint8. Range [0, 1]. Convert image to uint8 prior to saving to suppress this warning.\n",
      "Lossy conversion from float32 to uint8. Range [0, 1]. Convert image to uint8 prior to saving to suppress this warning.\n",
      "Lossy conversion from float32 to uint8. Range [0, 1]. Convert image to uint8 prior to saving to suppress this warning.\n",
      "Lossy conversion from float32 to uint8. Range [0, 1]. Convert image to uint8 prior to saving to suppress this warning.\n",
      "Lossy conversion from float32 to uint8. Range [0, 1]. Convert image to uint8 prior to saving to suppress this warning.\n",
      "Lossy conversion from float32 to uint8. Range [0, 1]. Convert image to uint8 prior to saving to suppress this warning.\n",
      "Lossy conversion from float32 to uint8. Range [0, 1]. Convert image to uint8 prior to saving to suppress this warning.\n",
      "Lossy conversion from float32 to uint8. Range [0, 1]. Convert image to uint8 prior to saving to suppress this warning.\n",
      "Lossy conversion from float32 to uint8. Range [0, 1]. Convert image to uint8 prior to saving to suppress this warning.\n",
      "Lossy conversion from float32 to uint8. Range [0, 1]. Convert image to uint8 prior to saving to suppress this warning.\n",
      "Lossy conversion from float32 to uint8. Range [0, 1]. Convert image to uint8 prior to saving to suppress this warning.\n",
      "Lossy conversion from float32 to uint8. Range [0, 1]. Convert image to uint8 prior to saving to suppress this warning.\n",
      "Lossy conversion from float32 to uint8. Range [0, 1]. Convert image to uint8 prior to saving to suppress this warning.\n",
      "Lossy conversion from float32 to uint8. Range [0, 1]. Convert image to uint8 prior to saving to suppress this warning.\n",
      "Lossy conversion from float32 to uint8. Range [0, 1]. Convert image to uint8 prior to saving to suppress this warning.\n",
      "Lossy conversion from float32 to uint8. Range [0, 1]. Convert image to uint8 prior to saving to suppress this warning.\n",
      "Lossy conversion from float32 to uint8. Range [0, 1]. Convert image to uint8 prior to saving to suppress this warning.\n",
      "Lossy conversion from float32 to uint8. Range [0, 1]. Convert image to uint8 prior to saving to suppress this warning.\n",
      "Lossy conversion from float32 to uint8. Range [0, 1]. Convert image to uint8 prior to saving to suppress this warning.\n",
      "Lossy conversion from float32 to uint8. Range [0, 1]. Convert image to uint8 prior to saving to suppress this warning.\n",
      "Lossy conversion from float32 to uint8. Range [0, 1]. Convert image to uint8 prior to saving to suppress this warning.\n",
      "Lossy conversion from float32 to uint8. Range [0, 1]. Convert image to uint8 prior to saving to suppress this warning.\n",
      "Lossy conversion from float32 to uint8. Range [0, 1]. Convert image to uint8 prior to saving to suppress this warning.\n",
      "Lossy conversion from float32 to uint8. Range [0, 1]. Convert image to uint8 prior to saving to suppress this warning.\n",
      "Lossy conversion from float32 to uint8. Range [0, 1]. Convert image to uint8 prior to saving to suppress this warning.\n",
      "Lossy conversion from float32 to uint8. Range [0, 1]. Convert image to uint8 prior to saving to suppress this warning.\n",
      "Lossy conversion from float32 to uint8. Range [0, 1]. Convert image to uint8 prior to saving to suppress this warning.\n",
      "Lossy conversion from float32 to uint8. Range [0, 1]. Convert image to uint8 prior to saving to suppress this warning.\n",
      "Lossy conversion from float32 to uint8. Range [0, 1]. Convert image to uint8 prior to saving to suppress this warning.\n",
      "Lossy conversion from float32 to uint8. Range [0, 1]. Convert image to uint8 prior to saving to suppress this warning.\n",
      "Lossy conversion from float32 to uint8. Range [0, 1]. Convert image to uint8 prior to saving to suppress this warning.\n",
      "Lossy conversion from float32 to uint8. Range [0, 1]. Convert image to uint8 prior to saving to suppress this warning.\n",
      "Lossy conversion from float32 to uint8. Range [0, 1]. Convert image to uint8 prior to saving to suppress this warning.\n",
      "Lossy conversion from float32 to uint8. Range [0, 1]. Convert image to uint8 prior to saving to suppress this warning.\n",
      "Lossy conversion from float32 to uint8. Range [0, 1]. Convert image to uint8 prior to saving to suppress this warning.\n",
      "Lossy conversion from float32 to uint8. Range [0, 1]. Convert image to uint8 prior to saving to suppress this warning.\n",
      "Lossy conversion from float32 to uint8. Range [0, 1]. Convert image to uint8 prior to saving to suppress this warning.\n",
      "Lossy conversion from float32 to uint8. Range [0, 1]. Convert image to uint8 prior to saving to suppress this warning.\n",
      "Lossy conversion from float32 to uint8. Range [0, 1]. Convert image to uint8 prior to saving to suppress this warning.\n",
      "Lossy conversion from float32 to uint8. Range [0, 1]. Convert image to uint8 prior to saving to suppress this warning.\n",
      "Lossy conversion from float32 to uint8. Range [0, 1]. Convert image to uint8 prior to saving to suppress this warning.\n",
      "Lossy conversion from float32 to uint8. Range [0, 1]. Convert image to uint8 prior to saving to suppress this warning.\n",
      "Lossy conversion from float32 to uint8. Range [0, 1]. Convert image to uint8 prior to saving to suppress this warning.\n",
      "Lossy conversion from float32 to uint8. Range [0, 1]. Convert image to uint8 prior to saving to suppress this warning.\n",
      "Lossy conversion from float32 to uint8. Range [0, 1]. Convert image to uint8 prior to saving to suppress this warning.\n",
      "Lossy conversion from float32 to uint8. Range [0, 1]. Convert image to uint8 prior to saving to suppress this warning.\n",
      "Lossy conversion from float32 to uint8. Range [0, 1]. Convert image to uint8 prior to saving to suppress this warning.\n",
      "Lossy conversion from float32 to uint8. Range [0, 1]. Convert image to uint8 prior to saving to suppress this warning.\n",
      "Lossy conversion from float32 to uint8. Range [0, 1]. Convert image to uint8 prior to saving to suppress this warning.\n",
      "Lossy conversion from float32 to uint8. Range [0, 1]. Convert image to uint8 prior to saving to suppress this warning.\n",
      "Lossy conversion from float32 to uint8. Range [0, 1]. Convert image to uint8 prior to saving to suppress this warning.\n",
      "Lossy conversion from float32 to uint8. Range [0, 1]. Convert image to uint8 prior to saving to suppress this warning.\n",
      "Lossy conversion from float32 to uint8. Range [0, 1]. Convert image to uint8 prior to saving to suppress this warning.\n",
      "Lossy conversion from float32 to uint8. Range [0, 1]. Convert image to uint8 prior to saving to suppress this warning.\n",
      "Lossy conversion from float32 to uint8. Range [0, 1]. Convert image to uint8 prior to saving to suppress this warning.\n",
      "Lossy conversion from float32 to uint8. Range [0, 1]. Convert image to uint8 prior to saving to suppress this warning.\n",
      "Lossy conversion from float32 to uint8. Range [0, 1]. Convert image to uint8 prior to saving to suppress this warning.\n",
      "Lossy conversion from float32 to uint8. Range [0, 1]. Convert image to uint8 prior to saving to suppress this warning.\n",
      "Lossy conversion from float32 to uint8. Range [0, 1]. Convert image to uint8 prior to saving to suppress this warning.\n",
      "Lossy conversion from float32 to uint8. Range [0, 1]. Convert image to uint8 prior to saving to suppress this warning.\n",
      "Lossy conversion from float32 to uint8. Range [0, 1]. Convert image to uint8 prior to saving to suppress this warning.\n",
      "Lossy conversion from float32 to uint8. Range [0, 1]. Convert image to uint8 prior to saving to suppress this warning.\n",
      "Lossy conversion from float32 to uint8. Range [0, 1]. Convert image to uint8 prior to saving to suppress this warning.\n",
      "Lossy conversion from float32 to uint8. Range [0, 1]. Convert image to uint8 prior to saving to suppress this warning.\n",
      "Lossy conversion from float32 to uint8. Range [0, 1]. Convert image to uint8 prior to saving to suppress this warning.\n"
     ]
    },
    {
     "name": "stderr",
     "output_type": "stream",
     "text": [
      "Lossy conversion from float32 to uint8. Range [0, 1]. Convert image to uint8 prior to saving to suppress this warning.\n",
      "Lossy conversion from float32 to uint8. Range [0, 1]. Convert image to uint8 prior to saving to suppress this warning.\n",
      "Lossy conversion from float32 to uint8. Range [0, 1]. Convert image to uint8 prior to saving to suppress this warning.\n",
      "Lossy conversion from float32 to uint8. Range [0, 1]. Convert image to uint8 prior to saving to suppress this warning.\n",
      "Lossy conversion from float32 to uint8. Range [0, 1]. Convert image to uint8 prior to saving to suppress this warning.\n",
      "Lossy conversion from float32 to uint8. Range [0, 1]. Convert image to uint8 prior to saving to suppress this warning.\n",
      "Lossy conversion from float32 to uint8. Range [0, 1]. Convert image to uint8 prior to saving to suppress this warning.\n",
      "Lossy conversion from float32 to uint8. Range [0, 1]. Convert image to uint8 prior to saving to suppress this warning.\n",
      "Lossy conversion from float32 to uint8. Range [0, 1]. Convert image to uint8 prior to saving to suppress this warning.\n",
      "Lossy conversion from float32 to uint8. Range [0, 1]. Convert image to uint8 prior to saving to suppress this warning.\n",
      "Lossy conversion from float32 to uint8. Range [0, 1]. Convert image to uint8 prior to saving to suppress this warning.\n",
      "Lossy conversion from float32 to uint8. Range [0, 1]. Convert image to uint8 prior to saving to suppress this warning.\n",
      "Lossy conversion from float32 to uint8. Range [0, 1]. Convert image to uint8 prior to saving to suppress this warning.\n",
      "Lossy conversion from float32 to uint8. Range [0, 1]. Convert image to uint8 prior to saving to suppress this warning.\n",
      "Lossy conversion from float32 to uint8. Range [0, 1]. Convert image to uint8 prior to saving to suppress this warning.\n",
      "Lossy conversion from float32 to uint8. Range [0, 1]. Convert image to uint8 prior to saving to suppress this warning.\n",
      "Lossy conversion from float32 to uint8. Range [0, 1]. Convert image to uint8 prior to saving to suppress this warning.\n",
      "Lossy conversion from float32 to uint8. Range [0, 1]. Convert image to uint8 prior to saving to suppress this warning.\n",
      "Lossy conversion from float32 to uint8. Range [0, 1]. Convert image to uint8 prior to saving to suppress this warning.\n",
      "Lossy conversion from float32 to uint8. Range [0, 1]. Convert image to uint8 prior to saving to suppress this warning.\n",
      "Lossy conversion from float32 to uint8. Range [0, 1]. Convert image to uint8 prior to saving to suppress this warning.\n",
      "Lossy conversion from float32 to uint8. Range [0, 1]. Convert image to uint8 prior to saving to suppress this warning.\n",
      "Lossy conversion from float32 to uint8. Range [0, 1]. Convert image to uint8 prior to saving to suppress this warning.\n",
      "Lossy conversion from float32 to uint8. Range [0, 1]. Convert image to uint8 prior to saving to suppress this warning.\n",
      "Lossy conversion from float32 to uint8. Range [0, 1]. Convert image to uint8 prior to saving to suppress this warning.\n",
      "Lossy conversion from float32 to uint8. Range [0, 1]. Convert image to uint8 prior to saving to suppress this warning.\n",
      "Lossy conversion from float32 to uint8. Range [0, 1]. Convert image to uint8 prior to saving to suppress this warning.\n",
      "Lossy conversion from float32 to uint8. Range [0, 1]. Convert image to uint8 prior to saving to suppress this warning.\n",
      "Lossy conversion from float32 to uint8. Range [0, 1]. Convert image to uint8 prior to saving to suppress this warning.\n",
      "Lossy conversion from float32 to uint8. Range [0, 1]. Convert image to uint8 prior to saving to suppress this warning.\n",
      "Lossy conversion from float32 to uint8. Range [0, 1]. Convert image to uint8 prior to saving to suppress this warning.\n",
      "Lossy conversion from float32 to uint8. Range [0, 1]. Convert image to uint8 prior to saving to suppress this warning.\n",
      "Lossy conversion from float32 to uint8. Range [0, 1]. Convert image to uint8 prior to saving to suppress this warning.\n",
      "Lossy conversion from float32 to uint8. Range [0, 1]. Convert image to uint8 prior to saving to suppress this warning.\n",
      "Lossy conversion from float32 to uint8. Range [0, 1]. Convert image to uint8 prior to saving to suppress this warning.\n",
      "Lossy conversion from float32 to uint8. Range [0, 1]. Convert image to uint8 prior to saving to suppress this warning.\n",
      "Lossy conversion from float32 to uint8. Range [0, 1]. Convert image to uint8 prior to saving to suppress this warning.\n",
      "Lossy conversion from float32 to uint8. Range [0, 1]. Convert image to uint8 prior to saving to suppress this warning.\n",
      "Lossy conversion from float32 to uint8. Range [0, 1]. Convert image to uint8 prior to saving to suppress this warning.\n",
      "Lossy conversion from float32 to uint8. Range [0, 1]. Convert image to uint8 prior to saving to suppress this warning.\n",
      "Lossy conversion from float32 to uint8. Range [0, 1]. Convert image to uint8 prior to saving to suppress this warning.\n",
      "Lossy conversion from float32 to uint8. Range [0, 1]. Convert image to uint8 prior to saving to suppress this warning.\n",
      "Lossy conversion from float32 to uint8. Range [0, 1]. Convert image to uint8 prior to saving to suppress this warning.\n",
      "Lossy conversion from float32 to uint8. Range [0, 1]. Convert image to uint8 prior to saving to suppress this warning.\n",
      "Lossy conversion from float32 to uint8. Range [0, 1]. Convert image to uint8 prior to saving to suppress this warning.\n",
      "Lossy conversion from float32 to uint8. Range [0, 1]. Convert image to uint8 prior to saving to suppress this warning.\n",
      "Lossy conversion from float32 to uint8. Range [0, 1]. Convert image to uint8 prior to saving to suppress this warning.\n",
      "Lossy conversion from float32 to uint8. Range [0, 1]. Convert image to uint8 prior to saving to suppress this warning.\n",
      "Lossy conversion from float32 to uint8. Range [0, 1]. Convert image to uint8 prior to saving to suppress this warning.\n",
      "Lossy conversion from float32 to uint8. Range [0, 1]. Convert image to uint8 prior to saving to suppress this warning.\n",
      "Lossy conversion from float32 to uint8. Range [0, 1]. Convert image to uint8 prior to saving to suppress this warning.\n",
      "Lossy conversion from float32 to uint8. Range [0, 1]. Convert image to uint8 prior to saving to suppress this warning.\n",
      "Lossy conversion from float32 to uint8. Range [0, 1]. Convert image to uint8 prior to saving to suppress this warning.\n",
      "Lossy conversion from float32 to uint8. Range [0, 1]. Convert image to uint8 prior to saving to suppress this warning.\n",
      "Lossy conversion from float32 to uint8. Range [0, 1]. Convert image to uint8 prior to saving to suppress this warning.\n",
      "Lossy conversion from float32 to uint8. Range [0, 1]. Convert image to uint8 prior to saving to suppress this warning.\n",
      "Lossy conversion from float32 to uint8. Range [0, 1]. Convert image to uint8 prior to saving to suppress this warning.\n",
      "Lossy conversion from float32 to uint8. Range [0, 1]. Convert image to uint8 prior to saving to suppress this warning.\n",
      "Lossy conversion from float32 to uint8. Range [0, 1]. Convert image to uint8 prior to saving to suppress this warning.\n",
      "Lossy conversion from float32 to uint8. Range [0, 1]. Convert image to uint8 prior to saving to suppress this warning.\n",
      "Lossy conversion from float32 to uint8. Range [0, 1]. Convert image to uint8 prior to saving to suppress this warning.\n",
      "Lossy conversion from float32 to uint8. Range [0, 1]. Convert image to uint8 prior to saving to suppress this warning.\n",
      "Lossy conversion from float32 to uint8. Range [0, 1]. Convert image to uint8 prior to saving to suppress this warning.\n",
      "Lossy conversion from float32 to uint8. Range [0, 1]. Convert image to uint8 prior to saving to suppress this warning.\n",
      "Lossy conversion from float32 to uint8. Range [0, 1]. Convert image to uint8 prior to saving to suppress this warning.\n",
      "Lossy conversion from float32 to uint8. Range [0, 1]. Convert image to uint8 prior to saving to suppress this warning.\n",
      "Lossy conversion from float32 to uint8. Range [0, 1]. Convert image to uint8 prior to saving to suppress this warning.\n",
      "Lossy conversion from float32 to uint8. Range [0, 1]. Convert image to uint8 prior to saving to suppress this warning.\n",
      "Lossy conversion from float32 to uint8. Range [0, 1]. Convert image to uint8 prior to saving to suppress this warning.\n"
     ]
    },
    {
     "name": "stderr",
     "output_type": "stream",
     "text": [
      "Lossy conversion from float32 to uint8. Range [0, 1]. Convert image to uint8 prior to saving to suppress this warning.\n",
      "Lossy conversion from float32 to uint8. Range [0, 1]. Convert image to uint8 prior to saving to suppress this warning.\n",
      "Lossy conversion from float32 to uint8. Range [0, 1]. Convert image to uint8 prior to saving to suppress this warning.\n",
      "Lossy conversion from float32 to uint8. Range [0, 1]. Convert image to uint8 prior to saving to suppress this warning.\n",
      "Lossy conversion from float32 to uint8. Range [0, 1]. Convert image to uint8 prior to saving to suppress this warning.\n",
      "Lossy conversion from float32 to uint8. Range [0, 1]. Convert image to uint8 prior to saving to suppress this warning.\n",
      "Lossy conversion from float32 to uint8. Range [0, 1]. Convert image to uint8 prior to saving to suppress this warning.\n",
      "Lossy conversion from float32 to uint8. Range [0, 1]. Convert image to uint8 prior to saving to suppress this warning.\n",
      "Lossy conversion from float32 to uint8. Range [0, 1]. Convert image to uint8 prior to saving to suppress this warning.\n",
      "Lossy conversion from float32 to uint8. Range [0, 1]. Convert image to uint8 prior to saving to suppress this warning.\n",
      "Lossy conversion from float32 to uint8. Range [0, 1]. Convert image to uint8 prior to saving to suppress this warning.\n",
      "Lossy conversion from float32 to uint8. Range [0, 1]. Convert image to uint8 prior to saving to suppress this warning.\n",
      "Lossy conversion from float32 to uint8. Range [0, 1]. Convert image to uint8 prior to saving to suppress this warning.\n",
      "Lossy conversion from float32 to uint8. Range [0, 1]. Convert image to uint8 prior to saving to suppress this warning.\n",
      "Lossy conversion from float32 to uint8. Range [0, 1]. Convert image to uint8 prior to saving to suppress this warning.\n",
      "Lossy conversion from float32 to uint8. Range [0, 1]. Convert image to uint8 prior to saving to suppress this warning.\n",
      "Lossy conversion from float32 to uint8. Range [0, 1]. Convert image to uint8 prior to saving to suppress this warning.\n",
      "Lossy conversion from float32 to uint8. Range [0, 1]. Convert image to uint8 prior to saving to suppress this warning.\n",
      "Lossy conversion from float32 to uint8. Range [0, 1]. Convert image to uint8 prior to saving to suppress this warning.\n",
      "Lossy conversion from float32 to uint8. Range [0, 1]. Convert image to uint8 prior to saving to suppress this warning.\n",
      "Lossy conversion from float32 to uint8. Range [0, 1]. Convert image to uint8 prior to saving to suppress this warning.\n",
      "Lossy conversion from float32 to uint8. Range [0, 1]. Convert image to uint8 prior to saving to suppress this warning.\n",
      "Lossy conversion from float32 to uint8. Range [0, 1]. Convert image to uint8 prior to saving to suppress this warning.\n",
      "Lossy conversion from float32 to uint8. Range [0, 1]. Convert image to uint8 prior to saving to suppress this warning.\n",
      "Lossy conversion from float32 to uint8. Range [0, 1]. Convert image to uint8 prior to saving to suppress this warning.\n",
      "Lossy conversion from float32 to uint8. Range [0, 1]. Convert image to uint8 prior to saving to suppress this warning.\n",
      "Lossy conversion from float32 to uint8. Range [0, 1]. Convert image to uint8 prior to saving to suppress this warning.\n",
      "Lossy conversion from float32 to uint8. Range [0, 1]. Convert image to uint8 prior to saving to suppress this warning.\n",
      "Lossy conversion from float32 to uint8. Range [0, 1]. Convert image to uint8 prior to saving to suppress this warning.\n",
      "Lossy conversion from float32 to uint8. Range [0, 1]. Convert image to uint8 prior to saving to suppress this warning.\n",
      "Lossy conversion from float32 to uint8. Range [0, 1]. Convert image to uint8 prior to saving to suppress this warning.\n",
      "Lossy conversion from float32 to uint8. Range [0, 1]. Convert image to uint8 prior to saving to suppress this warning.\n"
     ]
    }
   ],
   "source": [
    "#for i in range(len(Train_dataset[\"train_set_x\"])):\n",
    "#    imageio.imwrite('/home/li/images/DOG_LOOK/{}.jpg'.format(i),T_X[i])"
   ]
  },
  {
   "cell_type": "code",
   "execution_count": 31,
   "metadata": {},
   "outputs": [],
   "source": [
    "import imageio"
   ]
  },
  {
   "cell_type": "code",
   "execution_count": 32,
   "metadata": {},
   "outputs": [],
   "source": [
    "import h5py\n",
    "import numpy as np\n",
    "from scipy.misc import imsave\n",
    "from skimage import transform\n",
    "import imageio\n",
    "\n",
    "train_dataset = h5py.File(\n",
    "    '/home/li/Practive/DL_HomeWork/course1_week4/C4W1/datasets/train_catvnoncat.h5', \"r\")"
   ]
  },
  {
   "cell_type": "code",
   "execution_count": 38,
   "metadata": {},
   "outputs": [
    {
     "name": "stdout",
     "output_type": "stream",
     "text": [
      "209\n"
     ]
    }
   ],
   "source": [
    "print(len(train_dataset[\"train_set_x\"]))\n",
    "train_set_x_orig = np.array(train_dataset[\"train_set_x\"][:])\n",
    "train_set_y_orig = np.array(train_dataset[\"train_set_y\"][:])"
   ]
  },
  {
   "cell_type": "code",
   "execution_count": 87,
   "metadata": {},
   "outputs": [],
   "source": [
    "def predict(X, y, parameters):\n",
    "    \"\"\"\n",
    "    该函数用于预测L层神经网络的结果，当然也包含两层\n",
    "\n",
    "    参数：\n",
    "     X - 测试集\n",
    "     y - 标签\n",
    "     parameters - 训练模型的参数\n",
    "\n",
    "    返回：\n",
    "     p - 给定数据集X的预测\n",
    "    \"\"\"\n",
    "\n",
    "    m = X.shape[1]\n",
    "    n = len(parameters) // 2  # 神经网络的层数\n",
    "    p = np.zeros((1, m))\n",
    "\n",
    "    # 根据参数前向传播\n",
    "    probas, caches = L_model_forward(X, parameters)\n",
    "    print(type(probas))\n",
    "    print(probas.shape)\n",
    "    for i in range(0, probas.shape[1]):\n",
    "        if probas[0][i] > 0.5:\n",
    "            p[0][i] = 1\n",
    "        else:\n",
    "            p[0][i] = 0\n",
    "\n",
    "    print(\"准确度为: \" + str(float(np.sum((p == y))/m)))\n",
    "    return p"
   ]
  },
  {
   "cell_type": "code",
   "execution_count": 43,
   "metadata": {},
   "outputs": [],
   "source": [
    "for i in range(len(train_dataset[\"train_set_x\"])):\n",
    "    imageio.imwrite('/home/li/images/CAT_LOOK/{}.jpg'.format(i),train_set_x_orig[i])"
   ]
  },
  {
   "cell_type": "code",
   "execution_count": 77,
   "metadata": {},
   "outputs": [
    {
     "name": "stdout",
     "output_type": "stream",
     "text": [
      "0.7057808137095358\n",
      "0.7057808137095358\n"
     ]
    }
   ],
   "source": [
    "b=np.random.rand(2,10)\n",
    "print(b[0,3])\n",
    "print(b[0][3])"
   ]
  },
  {
   "cell_type": "code",
   "execution_count": 85,
   "metadata": {},
   "outputs": [],
   "source": [
    "a=np.array([[1,2,3,4],[4,3,2,1]])\n",
    "b=np.array([[1,2,2,2],[3,4,2,1]])"
   ]
  },
  {
   "cell_type": "code",
   "execution_count": 86,
   "metadata": {},
   "outputs": [
    {
     "data": {
      "text/plain": [
       "4"
      ]
     },
     "execution_count": 86,
     "metadata": {},
     "output_type": "execute_result"
    }
   ],
   "source": [
    "np.sum((a==b))"
   ]
  }
 ],
 "metadata": {
  "kernelspec": {
   "display_name": "Python 3",
   "language": "python",
   "name": "python3"
  },
  "language_info": {
   "codemirror_mode": {
    "name": "ipython",
    "version": 3
   },
   "file_extension": ".py",
   "mimetype": "text/x-python",
   "name": "python",
   "nbconvert_exporter": "python",
   "pygments_lexer": "ipython3",
   "version": "3.7.4"
  }
 },
 "nbformat": 4,
 "nbformat_minor": 2
}
